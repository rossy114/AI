{
 "cells": [
  {
   "cell_type": "code",
   "execution_count": 15,
   "metadata": {
    "collapsed": false
   },
   "outputs": [],
   "source": [
    "import gym\n",
    "import deeprl_hw1\n",
    "from example import *"
   ]
  },
  {
   "cell_type": "code",
   "execution_count": 37,
   "metadata": {
    "collapsed": false
   },
   "outputs": [
    {
     "name": "stderr",
     "output_type": "stream",
     "text": [
      "INFO:gym.envs.registration:Making new env: Deterministic-4x4-neg-reward-FrozenLake-v0\n",
      "[2017-02-15 00:08:57,815] Making new env: Deterministic-4x4-neg-reward-FrozenLake-v0\n"
     ]
    }
   ],
   "source": [
    "env=gym.make('Deterministic-4x4-neg-reward-FrozenLake-v0')"
   ]
  },
  {
   "cell_type": "code",
   "execution_count": 30,
   "metadata": {
    "collapsed": false
   },
   "outputs": [
    {
     "name": "stdout",
     "output_type": "stream",
     "text": [
      "0\n",
      "2\n",
      "3\n",
      "1\n"
     ]
    }
   ],
   "source": [
    "print(deeprl_hw1.lake_envs.LEFT)\n",
    "print(deeprl_hw1.lake_envs.RIGHT)\n",
    "print(deeprl_hw1.lake_envs.UP)\n",
    "print(deeprl_hw1.lake_envs.DOWN)"
   ]
  },
  {
   "cell_type": "code",
   "execution_count": 38,
   "metadata": {
    "collapsed": false
   },
   "outputs": [
    {
     "name": "stdout",
     "output_type": "stream",
     "text": [
      "{0: {0: [(1.0, 0, -1, False)], 1: [(1.0, 4, -1, False)], 2: [(1.0, 1, -1, False)], 3: [(1.0, 0, -1, False)]}, 1: {0: [(1.0, 0, -1, False)], 1: [(1.0, 5, 0, True)], 2: [(1.0, 2, -1, False)], 3: [(1.0, 1, -1, False)]}, 2: {0: [(1.0, 1, -1, False)], 1: [(1.0, 6, -1, False)], 2: [(1.0, 3, -1, False)], 3: [(1.0, 2, -1, False)]}, 3: {0: [(1.0, 2, -1, False)], 1: [(1.0, 7, 0, True)], 2: [(1.0, 3, -1, False)], 3: [(1.0, 3, -1, False)]}, 4: {0: [(1.0, 4, -1, False)], 1: [(1.0, 8, -1, False)], 2: [(1.0, 5, 0, True)], 3: [(1.0, 0, -1, False)]}, 5: {0: [(1.0, 5, 0, True)], 1: [(1.0, 5, 0, True)], 2: [(1.0, 5, 0, True)], 3: [(1.0, 5, 0, True)]}, 6: {0: [(1.0, 5, 0, True)], 1: [(1.0, 10, -1, False)], 2: [(1.0, 7, 0, True)], 3: [(1.0, 2, -1, False)]}, 7: {0: [(1.0, 7, 0, True)], 1: [(1.0, 7, 0, True)], 2: [(1.0, 7, 0, True)], 3: [(1.0, 7, 0, True)]}, 8: {0: [(1.0, 8, -1, False)], 1: [(1.0, 12, 0, True)], 2: [(1.0, 9, -1, False)], 3: [(1.0, 4, -1, False)]}, 9: {0: [(1.0, 8, -1, False)], 1: [(1.0, 13, -1, False)], 2: [(1.0, 10, -1, False)], 3: [(1.0, 5, 0, True)]}, 10: {0: [(1.0, 9, -1, False)], 1: [(1.0, 14, -1, False)], 2: [(1.0, 11, 0, True)], 3: [(1.0, 6, -1, False)]}, 11: {0: [(1.0, 11, 0, True)], 1: [(1.0, 11, 0, True)], 2: [(1.0, 11, 0, True)], 3: [(1.0, 11, 0, True)]}, 12: {0: [(1.0, 12, 0, True)], 1: [(1.0, 12, 0, True)], 2: [(1.0, 12, 0, True)], 3: [(1.0, 12, 0, True)]}, 13: {0: [(1.0, 12, 0, True)], 1: [(1.0, 13, -1, False)], 2: [(1.0, 14, -1, False)], 3: [(1.0, 9, -1, False)]}, 14: {0: [(1.0, 13, -1, False)], 1: [(1.0, 14, -1, False)], 2: [(1.0, 15, 1, True)], 3: [(1.0, 10, -1, False)]}, 15: {0: [(1.0, 15, 1, True)], 1: [(1.0, 15, 1, True)], 2: [(1.0, 15, 1, True)], 3: [(1.0, 15, 1, True)]}}\n"
     ]
    }
   ],
   "source": [
    "print env.P"
   ]
  },
  {
   "cell_type": "code",
   "execution_count": 16,
   "metadata": {
    "collapsed": false
   },
   "outputs": [
    {
     "name": "stdout",
     "output_type": "stream",
     "text": [
      "Environment has 16 states and 4 actions.\n"
     ]
    }
   ],
   "source": [
    "print_env_info(env)"
   ]
  },
  {
   "cell_type": "code",
   "execution_count": 17,
   "metadata": {
    "collapsed": false
   },
   "outputs": [
    {
     "name": "stdout",
     "output_type": "stream",
     "text": [
      "According to transition function, taking action RIGHT(2) in state 0 leads to 1 possible outcomes\n",
      "\tTransitioning to non-terminal state 1 with probability 1.000000 and reward 0.000000\n"
     ]
    }
   ],
   "source": [
    "print_model_info(env,0,deeprl_hw1.lake_envs.RIGHT)"
   ]
  },
  {
   "cell_type": "code",
   "execution_count": 18,
   "metadata": {
    "collapsed": false
   },
   "outputs": [
    {
     "name": "stdout",
     "output_type": "stream",
     "text": [
      "\u001b[41mS\u001b[0mFFF\n",
      "FHFH\n",
      "FFFH\n",
      "HFFG\n",
      "\n"
     ]
    },
    {
     "data": {
      "text/plain": [
       "<ipykernel.iostream.OutStream at 0x103a1a490>"
      ]
     },
     "execution_count": 18,
     "metadata": {},
     "output_type": "execute_result"
    }
   ],
   "source": [
    "env.render()"
   ]
  },
  {
   "cell_type": "code",
   "execution_count": 24,
   "metadata": {
    "collapsed": false
   },
   "outputs": [
    {
     "name": "stdout",
     "output_type": "stream",
     "text": [
      "4\n"
     ]
    }
   ],
   "source": [
    "print env.nA"
   ]
  },
  {
   "cell_type": "code",
   "execution_count": 23,
   "metadata": {
    "collapsed": false
   },
   "outputs": [
    {
     "name": "stdout",
     "output_type": "stream",
     "text": [
      "4\n"
     ]
    }
   ],
   "source": [
    "print env.action_space.n"
   ]
  },
  {
   "cell_type": "code",
   "execution_count": null,
   "metadata": {
    "collapsed": true
   },
   "outputs": [],
   "source": []
  }
 ],
 "metadata": {
  "kernelspec": {
   "display_name": "Python 2",
   "language": "python",
   "name": "python2"
  },
  "language_info": {
   "codemirror_mode": {
    "name": "ipython",
    "version": 2
   },
   "file_extension": ".py",
   "mimetype": "text/x-python",
   "name": "python",
   "nbconvert_exporter": "python",
   "pygments_lexer": "ipython2",
   "version": "2.7.12"
  }
 },
 "nbformat": 4,
 "nbformat_minor": 0
}
